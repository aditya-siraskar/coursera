{
  "metadata": {
    "language_info": {
      "codemirror_mode": {
        "name": "python",
        "version": 3
      },
      "file_extension": ".py",
      "mimetype": "text/x-python",
      "name": "python",
      "nbconvert_exporter": "python",
      "pygments_lexer": "ipython3",
      "version": "3.8"
    },
    "kernelspec": {
      "name": "python",
      "display_name": "Python (Pyodide)",
      "language": "python"
    }
  },
  "nbformat_minor": 4,
  "nbformat": 4,
  "cells": [
    {
      "cell_type": "markdown",
      "source": "Coursera",
      "metadata": {}
    },
    {
      "cell_type": "markdown",
      "source": "Introduction",
      "metadata": {}
    },
    {
      "cell_type": "markdown",
      "source": "Data Science Languages\n1. Python \n2. R\n3. Sql\n4. MATLAB",
      "metadata": {}
    },
    {
      "cell_type": "markdown",
      "source": "Data Science Libraries\n\n1. numpy\n2. pandas\n3. matplaolib",
      "metadata": {}
    },
    {
      "cell_type": "markdown",
      "source": "Data Science tools\n1. Anaconda\n2. Spyder\n3. Tableau",
      "metadata": {}
    },
    {
      "cell_type": "markdown",
      "source": "Arithmetic Expressions\n\n# Arithmetic expression example\na = 10\nb = 5\n\n# Addition\nadd_result = a + b\nprint(\"Addition:\", add_result)\n\n# Subtraction\nsub_result = a - b\nprint(\"Subtraction:\", sub_result)\n\n# Multiplication\nmul_result = a * b\nprint(\"Multiplication:\", mul_result)\n\n# Division\ndiv_result = a / b\nprint(\"Division:\", div_result)\n\n# Integer Division (floor division)\nint_div_result = a // b\nprint(\"Integer Division:\", int_div_result)\n\n# Modulus (remainder)\nmod_result = a % b\nprint(\"Modulus:\", mod_result)\n\n# Exponentiation\nexp_result = a ** b\nprint(\"Exponentiation:\", exp_result)\n",
      "metadata": {}
    },
    {
      "cell_type": "code",
      "source": "# Import Pyodide and display module\nimport pyodide\n# from js import document\n\n# Function to display results\ndef display_result(result):\n    result_div = document.createElement(\"div\")\n    result_div.textContent = result\n    document.body.appendChild(result_div)\n\n# Input numbers using JavaScript prompt\nnum1 = float(pyodide.runPython(\"parseFloat(prompt('Enter the first number:'))\"))\nnum2 = float(pyodide.runPython(\"parseFloat(prompt('Enter the second number:'))\"))\n\n# Multiply the numbers\nmultiply_result = num1 * num2\ndisplay_result(f\"Multiplication Result: {multiply_result}\")\n\n# Add the numbers\nadd_result = num1 + num2\ndisplay_result(f\"Addition Result: {add_result}\")\n\n",
      "metadata": {
        "trusted": true
      },
      "execution_count": 6,
      "outputs": [
        {
          "ename": "<class 'AttributeError'>",
          "evalue": "module 'pyodide' has no attribute 'runPython'",
          "traceback": [
            "\u001b[0;31m---------------------------------------------------------------------------\u001b[0m",
            "\u001b[0;31mAttributeError\u001b[0m                            Traceback (most recent call last)",
            "Cell \u001b[0;32mIn[6], line 12\u001b[0m\n\u001b[1;32m      9\u001b[0m     document\u001b[38;5;241m.\u001b[39mbody\u001b[38;5;241m.\u001b[39mappendChild(result_div)\n\u001b[1;32m     11\u001b[0m \u001b[38;5;66;03m# Input numbers using JavaScript prompt\u001b[39;00m\n\u001b[0;32m---> 12\u001b[0m num1 \u001b[38;5;241m=\u001b[39m \u001b[38;5;28mfloat\u001b[39m(\u001b[43mpyodide\u001b[49m\u001b[38;5;241;43m.\u001b[39;49m\u001b[43mrunPython\u001b[49m(\u001b[38;5;124m\"\u001b[39m\u001b[38;5;124mparseFloat(prompt(\u001b[39m\u001b[38;5;124m'\u001b[39m\u001b[38;5;124mEnter the first number:\u001b[39m\u001b[38;5;124m'\u001b[39m\u001b[38;5;124m))\u001b[39m\u001b[38;5;124m\"\u001b[39m))\n\u001b[1;32m     13\u001b[0m num2 \u001b[38;5;241m=\u001b[39m \u001b[38;5;28mfloat\u001b[39m(pyodide\u001b[38;5;241m.\u001b[39mrunPython(\u001b[38;5;124m\"\u001b[39m\u001b[38;5;124mparseFloat(prompt(\u001b[39m\u001b[38;5;124m'\u001b[39m\u001b[38;5;124mEnter the second number:\u001b[39m\u001b[38;5;124m'\u001b[39m\u001b[38;5;124m))\u001b[39m\u001b[38;5;124m\"\u001b[39m))\n\u001b[1;32m     15\u001b[0m \u001b[38;5;66;03m# Multiply the numbers\u001b[39;00m\n",
            "\u001b[0;31mAttributeError\u001b[0m: module 'pyodide' has no attribute 'runPython'"
          ],
          "output_type": "error"
        }
      ]
    },
    {
      "cell_type": "markdown",
      "source": "Objectives",
      "metadata": {}
    },
    {
      "cell_type": "markdown",
      "source": "Aditya",
      "metadata": {}
    },
    {
      "cell_type": "code",
      "source": "",
      "metadata": {},
      "execution_count": null,
      "outputs": []
    }
  ]
}